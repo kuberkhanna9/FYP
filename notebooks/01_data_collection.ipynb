{
  "cells": [
    {
      "cell_type": "raw",
      "metadata": {
        "vscode": {
          "languageId": "raw"
        }
      },
      "source": [
        "# Stock Market Data Collection\n",
        "\n",
        "This notebook fetches 5 years of historical daily data for AAPL, TSLA, and MSFT using the `yfinance` library.\n",
        "\n",
        "## Process:\n",
        "1. Fetch historical data for each ticker\n",
        "2. Clean the data (handle missing values)\n",
        "3. Save individual CSV files\n",
        "4. Create and save merged dataset\n"
      ]
    },
    {
      "cell_type": "code",
      "execution_count": 1,
      "metadata": {},
      "outputs": [
        {
          "name": "stdout",
          "output_type": "stream",
          "text": [
            "Fetching data from 2020-07-15 to 2025-07-14\n"
          ]
        }
      ],
      "source": [
        "# Import required libraries\n",
        "import yfinance as yf\n",
        "import pandas as pd\n",
        "from datetime import datetime, timedelta\n",
        "import os\n",
        "\n",
        "# Create data directory if it doesn't exist\n",
        "os.makedirs('../data', exist_ok=True)\n",
        "\n",
        "# Define parameters\n",
        "tickers = ['AAPL', 'TSLA', 'MSFT']\n",
        "end_date = datetime.now()\n",
        "start_date = end_date - timedelta(days=5*365)  # 5 years of data\n",
        "\n",
        "print(f\"Fetching data from {start_date.date()} to {end_date.date()}\")\n"
      ]
    },
    {
      "cell_type": "code",
      "execution_count": 2,
      "metadata": {},
      "outputs": [],
      "source": [
        "# Function to fetch and clean data for a single ticker\n",
        "def fetch_stock_data(ticker):\n",
        "    \"\"\"\n",
        "    Fetch and clean stock data for a given ticker.\n",
        "    \n",
        "    Args:\n",
        "        ticker (str): Stock ticker symbol\n",
        "        \n",
        "    Returns:\n",
        "        pd.DataFrame: Cleaned stock data\n",
        "    \"\"\"\n",
        "    # Fetch data\n",
        "    stock = yf.Ticker(ticker)\n",
        "    df = stock.history(start=start_date, end=end_date)\n",
        "    \n",
        "    # Clean data\n",
        "    df = df.dropna()  # Remove any rows with missing values\n",
        "    \n",
        "    # Reset index to make Date a column\n",
        "    df = df.reset_index()\n",
        "    \n",
        "    # Add ticker column\n",
        "    df['Ticker'] = ticker\n",
        "    \n",
        "    # Ensure consistent column names\n",
        "    df.columns = df.columns.str.capitalize()\n",
        "    \n",
        "    return df\n",
        "\n",
        "# Dictionary to store individual dataframes\n",
        "stock_dfs = {}\n"
      ]
    },
    {
      "cell_type": "code",
      "execution_count": 3,
      "metadata": {},
      "outputs": [
        {
          "name": "stdout",
          "output_type": "stream",
          "text": [
            "\n",
            "Processing AAPL...\n",
            "Saved ../data/AAPL.csv with 1255 rows\n",
            "Date range: 2020-07-15 00:00:00-04:00 to 2025-07-14 00:00:00-04:00\n",
            "Columns: Date, Open, High, Low, Close, Volume, Dividends, Stock splits, Ticker\n",
            "\n",
            "Processing TSLA...\n",
            "Saved ../data/TSLA.csv with 1255 rows\n",
            "Date range: 2020-07-15 00:00:00-04:00 to 2025-07-14 00:00:00-04:00\n",
            "Columns: Date, Open, High, Low, Close, Volume, Dividends, Stock splits, Ticker\n",
            "\n",
            "Processing MSFT...\n",
            "Saved ../data/MSFT.csv with 1255 rows\n",
            "Date range: 2020-07-15 00:00:00-04:00 to 2025-07-14 00:00:00-04:00\n",
            "Columns: Date, Open, High, Low, Close, Volume, Dividends, Stock splits, Ticker\n"
          ]
        }
      ],
      "source": [
        "# Fetch data for each ticker and save individual CSVs\n",
        "for ticker in tickers:\n",
        "    print(f\"\\nProcessing {ticker}...\")\n",
        "    \n",
        "    # Fetch and clean data\n",
        "    df = fetch_stock_data(ticker)\n",
        "    stock_dfs[ticker] = df\n",
        "    \n",
        "    # Save individual CSV\n",
        "    csv_path = f'../data/{ticker}.csv'\n",
        "    df.to_csv(csv_path, index=False)\n",
        "    print(f\"Saved {csv_path} with {len(df)} rows\")\n",
        "    print(f\"Date range: {df['Date'].min()} to {df['Date'].max()}\")\n",
        "    print(f\"Columns: {', '.join(df.columns)}\")\n"
      ]
    },
    {
      "cell_type": "code",
      "execution_count": 4,
      "metadata": {},
      "outputs": [
        {
          "name": "stdout",
          "output_type": "stream",
          "text": [
            "\n",
            "Creating merged dataset...\n",
            "Saved ../data/merged_stocks.csv with 3765 rows\n",
            "\n",
            "Sample of merged dataset:\n",
            "                       Date        Open        High         Low       Close  \\\n",
            "0 2020-07-15 00:00:00-04:00   96.225127   96.475435   93.794954   94.995461   \n",
            "0 2020-07-15 00:00:00-04:00  200.776424  202.472239  196.436297  199.320129   \n",
            "0 2020-07-15 00:00:00-04:00  102.866669  103.333336   97.133331  103.067329   \n",
            "1 2020-07-16 00:00:00-04:00   93.865422   94.684389   93.226285   93.826538   \n",
            "1 2020-07-16 00:00:00-04:00  196.790796  197.078225  193.830315  195.372833   \n",
            "\n",
            "      Volume  Dividends  Stock splits Ticker  \n",
            "0  153198000        0.0           0.0   AAPL  \n",
            "0   32179400        0.0           0.0   MSFT  \n",
            "0  245517000        0.0           0.0   TSLA  \n",
            "1  110577600        0.0           0.0   AAPL  \n",
            "1   29940700        0.0           0.0   MSFT  \n"
          ]
        }
      ],
      "source": [
        "# Create merged dataset\n",
        "print(\"\\nCreating merged dataset...\")\n",
        "merged_df = pd.concat(stock_dfs.values(), axis=0)\n",
        "\n",
        "# Sort by Date and Ticker\n",
        "merged_df = merged_df.sort_values(['Date', 'Ticker'])\n",
        "\n",
        "# Save merged dataset\n",
        "merged_csv_path = '../data/merged_stocks.csv'\n",
        "merged_df.to_csv(merged_csv_path, index=False)\n",
        "\n",
        "print(f\"Saved {merged_csv_path} with {len(merged_df)} rows\")\n",
        "print(\"\\nSample of merged dataset:\")\n",
        "print(merged_df.head())\n"
      ]
    },
    {
      "cell_type": "code",
      "execution_count": 5,
      "metadata": {},
      "outputs": [
        {
          "name": "stdout",
          "output_type": "stream",
          "text": [
            "\n",
            "Data Quality Summary:\n",
            "--------------------------------------------------\n",
            "\n",
            "AAPL:\n",
            "Total trading days: 1255\n",
            "Missing values:\n",
            "Date            0\n",
            "Open            0\n",
            "High            0\n",
            "Low             0\n",
            "Close           0\n",
            "Volume          0\n",
            "Dividends       0\n",
            "Stock splits    0\n",
            "Ticker          0\n",
            "dtype: int64\n",
            "Value ranges:\n",
            "Open: 88.45 to 257.57\n",
            "High: 90.37 to 259.47\n",
            "Low: 86.66 to 257.01\n",
            "Close: 90.03 to 258.40\n",
            "Volume: 6081935.00 to 374336800.00\n",
            "\n",
            "TSLA:\n",
            "Total trading days: 1255\n",
            "Missing values:\n",
            "Date            0\n",
            "Open            0\n",
            "High            0\n",
            "Low             0\n",
            "Close           0\n",
            "Volume          0\n",
            "Dividends       0\n",
            "Stock splits    0\n",
            "Ticker          0\n",
            "dtype: int64\n",
            "Value ranges:\n",
            "Open: 93.07 to 475.90\n",
            "High: 94.67 to 488.54\n",
            "Low: 91.00 to 457.51\n",
            "Close: 91.63 to 479.86\n",
            "Volume: 16508186.00 to 666378600.00\n",
            "\n",
            "MSFT:\n",
            "Total trading days: 1255\n",
            "Missing values:\n",
            "Date            0\n",
            "Open            0\n",
            "High            0\n",
            "Low             0\n",
            "Close           0\n",
            "Volume          0\n",
            "Dividends       0\n",
            "Stock splits    0\n",
            "Ticker          0\n",
            "dtype: int64\n",
            "Value ranges:\n",
            "Open: 189.38 to 503.05\n",
            "High: 194.36 to 506.78\n",
            "Low: 188.48 to 501.03\n",
            "Close: 192.45 to 503.51\n",
            "Volume: 1271405.00 to 90428900.00\n"
          ]
        }
      ],
      "source": [
        "# Data quality check\n",
        "print(\"\\nData Quality Summary:\")\n",
        "print(\"-\" * 50)\n",
        "for ticker in tickers:\n",
        "    df = stock_dfs[ticker]\n",
        "    print(f\"\\n{ticker}:\")\n",
        "    print(f\"Total trading days: {len(df)}\")\n",
        "    print(f\"Missing values:\\n{df.isnull().sum()}\")\n",
        "    print(f\"Value ranges:\")\n",
        "    for col in ['Open', 'High', 'Low', 'Close', 'Volume']:\n",
        "        print(f\"{col}: {df[col].min():.2f} to {df[col].max():.2f}\")\n"
      ]
    }
  ],
  "metadata": {
    "kernelspec": {
      "display_name": "Python 3",
      "language": "python",
      "name": "python3"
    },
    "language_info": {
      "name": "python",
      "version": "3.11.9"
    }
  },
  "nbformat": 4,
  "nbformat_minor": 2
}
