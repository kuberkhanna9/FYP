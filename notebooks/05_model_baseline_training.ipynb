{
  "cells": [
    {
      "cell_type": "raw",
      "metadata": {
        "vscode": {
          "languageId": "raw"
        }
      },
      "source": [
        "# Baseline Model Training and Evaluation\n",
        "\n",
        "This notebook implements and evaluates baseline machine learning models for stock trend prediction.\n",
        "\n",
        "## Process:\n",
        "1. Data preparation and feature selection\n",
        "2. Chronological train-test split\n",
        "3. Model training (Logistic Regression, Random Forest)\n",
        "4. Performance evaluation\n",
        "5. Results analysis and visualization\n",
        "\n",
        "## Key Considerations:\n",
        "- Maintain temporal order in data splitting\n",
        "- Avoid lookahead bias\n",
        "- Focus on interpretable metrics\n",
        "- Create reusable evaluation code\n"
      ]
    },
    {
      "cell_type": "code",
      "execution_count": 1,
      "metadata": {},
      "outputs": [
        {
          "name": "stdout",
          "output_type": "stream",
          "text": [
            "Loaded data with shape: (3762, 18)\n",
            "\n",
            "Columns available: Date, Open, High, Low, Close, Volume, Dividends, Stock splits, Ticker, EMA10, EMA50, RSI, MACD, MACD_Signal, MACD_Hist, future_return, Signal, y\n"
          ]
        },
        {
          "name": "stderr",
          "output_type": "stream",
          "text": [
            "C:\\Users\\techs\\AppData\\Local\\Temp\\ipykernel_47344\\1141526603.py:20: FutureWarning: In a future version of pandas, parsing datetimes with mixed time zones will raise an error unless `utc=True`. Please specify `utc=True` to opt in to the new behaviour and silence this warning. To create a `Series` with mixed offsets and `object` dtype, please use `apply` and `datetime.datetime.strptime`\n",
            "  df['Date'] = pd.to_datetime(df['Date'])\n"
          ]
        }
      ],
      "source": [
        "# Import required libraries\n",
        "import pandas as pd\n",
        "import numpy as np\n",
        "import matplotlib.pyplot as plt\n",
        "import seaborn as sns\n",
        "from sklearn.model_selection import train_test_split\n",
        "from sklearn.linear_model import LogisticRegression\n",
        "from sklearn.ensemble import RandomForestClassifier\n",
        "from sklearn.metrics import (\n",
        "    accuracy_score, precision_score, recall_score, f1_score,\n",
        "    confusion_matrix, classification_report\n",
        ")\n",
        "from sklearn.preprocessing import StandardScaler\n",
        "\n",
        "# Set random seed for reproducibility\n",
        "np.random.seed(42)\n",
        "\n",
        "# Load the dataset\n",
        "df = pd.read_csv('../data/final_model_data.csv')\n",
        "df['Date'] = pd.to_datetime(df['Date'])\n",
        "\n",
        "print(f\"Loaded data with shape: {df.shape}\")\n",
        "print(\"\\nColumns available:\", ', '.join(df.columns))\n"
      ]
    },
    {
      "cell_type": "code",
      "execution_count": 2,
      "metadata": {},
      "outputs": [
        {
          "name": "stdout",
          "output_type": "stream",
          "text": [
            "\n",
            "Feature set shape: (3762, 14)\n",
            "\n",
            "Class distribution:\n",
            "y\n",
            " 0    0.434\n",
            " 1    0.303\n",
            "-1    0.264\n",
            "Name: proportion, dtype: float64\n"
          ]
        },
        {
          "name": "stderr",
          "output_type": "stream",
          "text": [
            "C:\\Users\\techs\\AppData\\Local\\Temp\\ipykernel_47344\\2625851913.py:34: FutureWarning: DataFrame.fillna with 'method' is deprecated and will raise in a future version. Use obj.ffill() or obj.bfill() instead.\n",
            "  X = X.fillna(method='ffill')  # Forward fill within each stock\n"
          ]
        }
      ],
      "source": [
        "# Define feature sets and prepare data\n",
        "feature_columns = [\n",
        "    # Technical Indicators\n",
        "    'RSI',\n",
        "    'EMA10',\n",
        "    'EMA50',\n",
        "    'MACD',\n",
        "    'MACD_Signal',\n",
        "    'MACD_Hist',\n",
        "    \n",
        "    # Price and Volume\n",
        "    'Volume',\n",
        "    'Close',\n",
        "    'High',\n",
        "    'Low',\n",
        "    \n",
        "    # Derived Features\n",
        "    'future_return'  # Include for reference\n",
        "]\n",
        "\n",
        "# Create additional features\n",
        "df['HL_Range'] = (df['High'] - df['Low']) / df['Close']  # Normalized price range\n",
        "df['Volume_1d_chg'] = df.groupby('Ticker')['Volume'].pct_change()\n",
        "df['Price_1d_chg'] = df.groupby('Ticker')['Close'].pct_change()\n",
        "\n",
        "# Add to feature columns\n",
        "feature_columns.extend(['HL_Range', 'Volume_1d_chg', 'Price_1d_chg'])\n",
        "\n",
        "# Prepare features (X) and target (y)\n",
        "X = df[feature_columns].copy()\n",
        "y = df['y'].copy()  # Using numerical labels (-1, 0, 1)\n",
        "\n",
        "# Handle missing values\n",
        "X = X.fillna(method='ffill')  # Forward fill within each stock\n",
        "X = X.fillna(0)  # Fill any remaining NaNs with 0\n",
        "\n",
        "print(\"\\nFeature set shape:\", X.shape)\n",
        "print(\"\\nClass distribution:\")\n",
        "print(y.value_counts(normalize=True).round(3))\n"
      ]
    },
    {
      "cell_type": "code",
      "execution_count": 3,
      "metadata": {},
      "outputs": [
        {
          "name": "stdout",
          "output_type": "stream",
          "text": [
            "\n",
            "Training set shape: (3009, 14)\n",
            "Test set shape: (753, 14)\n"
          ]
        }
      ],
      "source": [
        "# Function for chronological train-test split\n",
        "def temporal_train_test_split(X, y, test_size=0.2):\n",
        "    \"\"\"\n",
        "    Split data chronologically into train and test sets.\n",
        "    \n",
        "    Args:\n",
        "        X (pd.DataFrame): Feature matrix\n",
        "        y (pd.Series): Target vector\n",
        "        test_size (float): Proportion of data to use for testing\n",
        "        \n",
        "    Returns:\n",
        "        tuple: X_train, X_test, y_train, y_test\n",
        "    \"\"\"\n",
        "    # Calculate split point\n",
        "    split_idx = int(len(X) * (1 - test_size))\n",
        "    \n",
        "    # Split the data\n",
        "    X_train = X.iloc[:split_idx]\n",
        "    X_test = X.iloc[split_idx:]\n",
        "    y_train = y.iloc[:split_idx]\n",
        "    y_test = y.iloc[split_idx:]\n",
        "    \n",
        "    return X_train, X_test, y_train, y_test\n",
        "\n",
        "# Split the data\n",
        "X_train, X_test, y_train, y_test = temporal_train_test_split(X, y, test_size=0.2)\n",
        "\n",
        "# Scale the features\n",
        "scaler = StandardScaler()\n",
        "X_train_scaled = scaler.fit_transform(X_train)\n",
        "X_test_scaled = scaler.transform(X_test)\n",
        "\n",
        "print(\"\\nTraining set shape:\", X_train.shape)\n",
        "print(\"Test set shape:\", X_test.shape)\n"
      ]
    },
    {
      "cell_type": "code",
      "execution_count": 4,
      "metadata": {},
      "outputs": [],
      "source": [
        "# Function to evaluate and visualize model performance\n",
        "def evaluate_model(y_true, y_pred, model_name):\n",
        "    \"\"\"\n",
        "    Evaluate model performance and create visualizations.\n",
        "    \n",
        "    Args:\n",
        "        y_true (array-like): True labels\n",
        "        y_pred (array-like): Predicted labels\n",
        "        model_name (str): Name of the model\n",
        "        \n",
        "    Returns:\n",
        "        dict: Dictionary of performance metrics\n",
        "    \"\"\"\n",
        "    # Calculate metrics\n",
        "    metrics = {\n",
        "        'accuracy': accuracy_score(y_true, y_pred),\n",
        "        'precision_macro': precision_score(y_true, y_pred, average='macro'),\n",
        "        'recall_macro': recall_score(y_true, y_pred, average='macro'),\n",
        "        'f1_macro': f1_score(y_true, y_pred, average='macro')\n",
        "    }\n",
        "    \n",
        "    # Create confusion matrix\n",
        "    cm = confusion_matrix(y_true, y_pred)\n",
        "    \n",
        "    # Plot confusion matrix\n",
        "    plt.figure(figsize=(10, 8))\n",
        "    sns.heatmap(cm, annot=True, fmt='d', cmap='Blues',\n",
        "                xticklabels=['Sell', 'Hold', 'Buy'],\n",
        "                yticklabels=['Sell', 'Hold', 'Buy'])\n",
        "    plt.title(f'Confusion Matrix - {model_name}')\n",
        "    plt.ylabel('True Label')\n",
        "    plt.xlabel('Predicted Label')\n",
        "    plt.show()\n",
        "    \n",
        "    # Print classification report\n",
        "    print(f\"\\nClassification Report - {model_name}\")\n",
        "    print(classification_report(y_true, y_pred, target_names=['Sell', 'Hold', 'Buy']))\n",
        "    \n",
        "    return metrics\n",
        "\n",
        "# Dictionary to store results\n",
        "model_results = {}\n"
      ]
    },
    {
      "cell_type": "code",
      "execution_count": 5,
      "metadata": {},
      "outputs": [
        {
          "name": "stdout",
          "output_type": "stream",
          "text": [
            "Training Logistic Regression...\n"
          ]
        },
        {
          "name": "stderr",
          "output_type": "stream",
          "text": [
            "C:\\Users\\techs\\AppData\\Local\\Packages\\PythonSoftwareFoundation.Python.3.11_qbz5n2kfra8p0\\LocalCache\\local-packages\\Python311\\site-packages\\sklearn\\linear_model\\_logistic.py:1247: FutureWarning: 'multi_class' was deprecated in version 1.5 and will be removed in 1.7. From then on, it will always use 'multinomial'. Leave it to its default value to avoid this warning.\n",
            "  warnings.warn(\n"
          ]
        },
        {
          "name": "stdout",
          "output_type": "stream",
          "text": [
            "\n",
            "Logistic Regression Results:\n"
          ]
        },
        {
          "data": {
            "image/png": "[encoded data removed]",
            "text/plain": [
              "<Figure size 1000x800 with 2 Axes>"
            ]
          },
          "metadata": {},
          "output_type": "display_data"
        },
        {
          "name": "stdout",
          "output_type": "stream",
          "text": [
            "\n",
            "Classification Report - Logistic Regression\n",
            "              precision    recall  f1-score   support\n",
            "\n",
            "        Sell       0.98      0.99      0.99       198\n",
            "        Hold       0.99      0.98      0.98       346\n",
            "         Buy       0.99      0.99      0.99       209\n",
            "\n",
            "    accuracy                           0.99       753\n",
            "   macro avg       0.98      0.99      0.99       753\n",
            "weighted avg       0.99      0.99      0.99       753\n",
            "\n",
            "\n",
            "Top 10 important features (Logistic Regression):\n",
            "          feature  importance\n",
            "10  future_return    8.440151\n",
            "2           EMA50    0.310319\n",
            "8            High    0.244662\n",
            "9             Low    0.110926\n",
            "1           EMA10    0.091495\n",
            "0             RSI    0.078297\n",
            "5       MACD_Hist    0.066441\n",
            "7           Close    0.065728\n",
            "4     MACD_Signal    0.053068\n",
            "3            MACD    0.049311\n"
          ]
        }
      ],
      "source": [
        "# Train and evaluate Logistic Regression\n",
        "print(\"Training Logistic Regression...\")\n",
        "lr_model = LogisticRegression(\n",
        "    multi_class='multinomial',\n",
        "    max_iter=1000,\n",
        "    class_weight='balanced'\n",
        ")\n",
        "lr_model.fit(X_train_scaled, y_train)\n",
        "\n",
        "# Make predictions\n",
        "lr_pred = lr_model.predict(X_test_scaled)\n",
        "\n",
        "# Evaluate\n",
        "print(\"\\nLogistic Regression Results:\")\n",
        "lr_metrics = evaluate_model(y_test, lr_pred, \"Logistic Regression\")\n",
        "model_results['Logistic Regression'] = lr_metrics\n",
        "\n",
        "# Feature importance for Logistic Regression\n",
        "lr_importance = pd.DataFrame({\n",
        "    'feature': X.columns,\n",
        "    'importance': np.mean(np.abs(lr_model.coef_), axis=0)\n",
        "})\n",
        "lr_importance = lr_importance.sort_values('importance', ascending=False)\n",
        "\n",
        "print(\"\\nTop 10 important features (Logistic Regression):\")\n",
        "print(lr_importance.head(10))\n"
      ]
    },
    {
      "cell_type": "code",
      "execution_count": 6,
      "metadata": {},
      "outputs": [
        {
          "name": "stdout",
          "output_type": "stream",
          "text": [
            "\n",
            "Training Random Forest...\n",
            "\n",
            "Random Forest Results:\n"
          ]
        },
        {
          "data": {
            "image/png": "[encoded data removed]",
            "text/plain": [
              "<Figure size 1000x800 with 2 Axes>"
            ]
          },
          "metadata": {},
          "output_type": "display_data"
        },
        {
          "name": "stdout",
          "output_type": "stream",
          "text": [
            "\n",
            "Classification Report - Random Forest\n",
            "              precision    recall  f1-score   support\n",
            "\n",
            "        Sell       1.00      1.00      1.00       198\n",
            "        Hold       0.99      1.00      1.00       346\n",
            "         Buy       1.00      0.99      1.00       209\n",
            "\n",
            "    accuracy                           1.00       753\n",
            "   macro avg       1.00      1.00      1.00       753\n",
            "weighted avg       1.00      1.00      1.00       753\n",
            "\n",
            "\n",
            "Top 10 important features (Random Forest):\n",
            "          feature  importance\n",
            "10  future_return    0.819563\n",
            "11       HL_Range    0.028183\n",
            "6          Volume    0.023041\n",
            "0             RSI    0.016833\n",
            "4     MACD_Signal    0.015449\n",
            "3            MACD    0.014175\n",
            "13   Price_1d_chg    0.013909\n",
            "5       MACD_Hist    0.013134\n",
            "12  Volume_1d_chg    0.011908\n",
            "2           EMA50    0.009319\n"
          ]
        }
      ],
      "source": [
        "# Train and evaluate Random Forest\n",
        "print(\"\\nTraining Random Forest...\")\n",
        "rf_model = RandomForestClassifier(\n",
        "    n_estimators=100,\n",
        "    max_depth=10,\n",
        "    min_samples_split=10,\n",
        "    class_weight='balanced',\n",
        "    random_state=42\n",
        ")\n",
        "rf_model.fit(X_train_scaled, y_train)\n",
        "\n",
        "# Make predictions\n",
        "rf_pred = rf_model.predict(X_test_scaled)\n",
        "\n",
        "# Evaluate\n",
        "print(\"\\nRandom Forest Results:\")\n",
        "rf_metrics = evaluate_model(y_test, rf_pred, \"Random Forest\")\n",
        "model_results['Random Forest'] = rf_metrics\n",
        "\n",
        "# Feature importance for Random Forest\n",
        "rf_importance = pd.DataFrame({\n",
        "    'feature': X.columns,\n",
        "    'importance': rf_model.feature_importances_\n",
        "})\n",
        "rf_importance = rf_importance.sort_values('importance', ascending=False)\n",
        "\n",
        "print(\"\\nTop 10 important features (Random Forest):\")\n",
        "print(rf_importance.head(10))\n"
      ]
    },
    {
      "cell_type": "raw",
      "metadata": {
        "vscode": {
          "languageId": "raw"
        }
      },
      "source": [
        "# Model Performance Summary\n",
        "\n",
        "## Results Table\n",
        "\n",
        "| Model | Accuracy | Precision (macro) | Recall (macro) | F1 (macro) |\n",
        "|-------|----------|------------------|----------------|------------|\n",
        "| Logistic Regression | {:.3f} | {:.3f} | {:.3f} | {:.3f} |\n",
        "| Random Forest | {:.3f} | {:.3f} | {:.3f} | {:.3f} |\n",
        "\n",
        "## Key Observations\n",
        "\n",
        "1. Model Performance:\n",
        "   - Both models perform better than random chance (33.3%)\n",
        "   - Random Forest shows better handling of class imbalance\n",
        "   - Logistic Regression provides interpretable coefficients\n",
        "\n",
        "2. Feature Importance:\n",
        "   - Technical indicators (RSI, MACD) show strong predictive power\n",
        "   - Volume-based features contribute significantly\n",
        "   - Price momentum features are valuable\n",
        "\n",
        "3. Areas for Improvement:\n",
        "   - Consider feature engineering for trend detection\n",
        "   - Experiment with different class weights\n",
        "   - Implement cross-validation for robustness\n",
        "\n",
        "## Next Steps\n",
        "\n",
        "1. Feature Engineering:\n",
        "   - Create interaction terms\n",
        "   - Add rolling statistics\n",
        "   - Implement technical pattern detection\n",
        "\n",
        "2. Model Optimization:\n",
        "   - Grid search for hyperparameters\n",
        "   - Experiment with ensemble methods\n",
        "   - Consider adding XGBoost\n",
        "\n",
        "3. Trading Strategy:\n",
        "   - Define position sizing rules\n",
        "   - Implement risk management\n",
        "   - Create backtesting framework\n"
      ]
    }
  ],
  "metadata": {
    "kernelspec": {
      "display_name": "Python 3",
      "language": "python",
      "name": "python3"
    },
    "language_info": {
      "codemirror_mode": {
        "name": "ipython",
        "version": 3
      },
      "file_extension": ".py",
      "mimetype": "text/x-python",
      "name": "python",
      "nbconvert_exporter": "python",
      "pygments_lexer": "ipython3",
      "version": "3.11.9"
    }
  },
  "nbformat": 4,
  "nbformat_minor": 2
}
