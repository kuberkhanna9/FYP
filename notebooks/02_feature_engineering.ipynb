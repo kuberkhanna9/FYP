{
  "cells": [
    {
      "cell_type": "raw",
      "metadata": {
        "vscode": {
          "languageId": "raw"
        }
      },
      "source": [
        "# Technical Indicator Feature Engineering\n",
        "\n",
        "This notebook applies technical analysis indicators to our stock price data using custom implementations from our `utils.indicators` module.\n",
        "\n",
        "## Process:\n",
        "1. Load merged stock data\n",
        "2. Calculate technical indicators for each stock:\n",
        "   - RSI (14-day)\n",
        "   - EMA (10 and 50-day)\n",
        "   - MACD (12, 26, 9)\n",
        "3. Add indicators as new columns\n",
        "4. Save enriched dataset\n"
      ]
    },
    {
      "cell_type": "code",
      "execution_count": 1,
      "metadata": {},
      "outputs": [
        {
          "name": "stdout",
          "output_type": "stream",
          "text": [
            "Loaded data with shape: (3765, 9)\n",
            "\n",
            "Sample of raw data:\n",
            "                        Date        Open        High         Low       Close  \\\n",
            "0  2020-07-15 00:00:00-04:00   96.225127   96.475435   93.794954   94.995461   \n",
            "1  2020-07-15 00:00:00-04:00  200.776424  202.472239  196.436297  199.320129   \n",
            "2  2020-07-15 00:00:00-04:00  102.866669  103.333336   97.133331  103.067329   \n",
            "3  2020-07-16 00:00:00-04:00   93.865422   94.684389   93.226285   93.826538   \n",
            "4  2020-07-16 00:00:00-04:00  196.790796  197.078225  193.830315  195.372833   \n",
            "\n",
            "      Volume  Dividends  Stock splits Ticker  \n",
            "0  153198000        0.0           0.0   AAPL  \n",
            "1   32179400        0.0           0.0   MSFT  \n",
            "2  245517000        0.0           0.0   TSLA  \n",
            "3  110577600        0.0           0.0   AAPL  \n",
            "4   29940700        0.0           0.0   MSFT  \n"
          ]
        },
        {
          "name": "stderr",
          "output_type": "stream",
          "text": [
            "C:\\Users\\techs\\AppData\\Local\\Temp\\ipykernel_82336\\2144350083.py:16: FutureWarning: In a future version of pandas, parsing datetimes with mixed time zones will raise an error unless `utc=True`. Please specify `utc=True` to opt in to the new behaviour and silence this warning. To create a `Series` with mixed offsets and `object` dtype, please use `apply` and `datetime.datetime.strptime`\n",
            "  df['Date'] = pd.to_datetime(df['Date'])\n"
          ]
        }
      ],
      "source": [
        "# Import required libraries\n",
        "import pandas as pd\n",
        "import numpy as np\n",
        "import sys\n",
        "from pathlib import Path\n",
        "\n",
        "# Add project root to Python path to import utils\n",
        "project_root = Path.cwd().parent\n",
        "sys.path.append(str(project_root))\n",
        "\n",
        "# Import our custom indicators\n",
        "from utils.indicators import calculate_ema, calculate_rsi, calculate_macd\n",
        "\n",
        "# Load the merged dataset\n",
        "df = pd.read_csv('../data/merged_stocks.csv')\n",
        "df['Date'] = pd.to_datetime(df['Date'])\n",
        "print(f\"Loaded data with shape: {df.shape}\")\n",
        "print(\"\\nSample of raw data:\")\n",
        "print(df.head())\n"
      ]
    },
    {
      "cell_type": "code",
      "execution_count": 2,
      "metadata": {},
      "outputs": [
        {
          "name": "stdout",
          "output_type": "stream",
          "text": [
            "\n",
            "Processing AAPL...\n",
            "Added indicators for AAPL\n",
            "\n",
            "Processing MSFT...\n",
            "Added indicators for MSFT\n",
            "\n",
            "Processing TSLA...\n",
            "Added indicators for TSLA\n"
          ]
        }
      ],
      "source": [
        "# Function to calculate all indicators for a single stock\n",
        "def calculate_all_indicators(stock_df: pd.DataFrame) -> pd.DataFrame:\n",
        "    \"\"\"\n",
        "    Calculate all technical indicators for a single stock's data.\n",
        "    \n",
        "    Args:\n",
        "        stock_df (pd.DataFrame): DataFrame containing stock data\n",
        "        \n",
        "    Returns:\n",
        "        pd.DataFrame: Original data with new indicator columns\n",
        "    \"\"\"\n",
        "    # Make a copy to avoid modifying original\n",
        "    df = stock_df.copy()\n",
        "    \n",
        "    # Calculate EMAs\n",
        "    df['EMA10'] = calculate_ema(df['Close'], window=10)\n",
        "    df['EMA50'] = calculate_ema(df['Close'], window=50)\n",
        "    \n",
        "    # Calculate RSI\n",
        "    df['RSI'] = calculate_rsi(df['Close'], window=14)\n",
        "    \n",
        "    # Calculate MACD components\n",
        "    macd_line, signal_line, histogram = calculate_macd(df['Close'])\n",
        "    df['MACD'] = macd_line\n",
        "    df['MACD_Signal'] = signal_line\n",
        "    df['MACD_Hist'] = histogram\n",
        "    \n",
        "    return df\n",
        "\n",
        "# Process each stock separately\n",
        "enriched_dfs = []\n",
        "for ticker in df['Ticker'].unique():\n",
        "    print(f\"\\nProcessing {ticker}...\")\n",
        "    \n",
        "    # Get data for this ticker\n",
        "    stock_df = df[df['Ticker'] == ticker].sort_values('Date')\n",
        "    \n",
        "    # Calculate indicators\n",
        "    enriched_df = calculate_all_indicators(stock_df)\n",
        "    \n",
        "    # Add to list\n",
        "    enriched_dfs.append(enriched_df)\n",
        "    \n",
        "    print(f\"Added indicators for {ticker}\")\n",
        "    \n",
        "# Combine all processed data\n",
        "enriched_df = pd.concat(enriched_dfs, axis=0)\n",
        "enriched_df = enriched_df.sort_values(['Date', 'Ticker'])\n"
      ]
    },
    {
      "cell_type": "code",
      "execution_count": 3,
      "metadata": {},
      "outputs": [
        {
          "name": "stdout",
          "output_type": "stream",
          "text": [
            "\n",
            "Enriched dataset summary:\n",
            "Shape: (3765, 15)\n",
            "\n",
            "Columns: Date, Open, High, Low, Close, Volume, Dividends, Stock splits, Ticker, EMA10, EMA50, RSI, MACD, MACD_Signal, MACD_Hist\n",
            "\n",
            "Sample of enriched data:\n",
            "                        Date        Open        High         Low       Close  \\\n",
            "0  2020-07-15 00:00:00-04:00   96.225127   96.475435   93.794954   94.995461   \n",
            "1  2020-07-15 00:00:00-04:00  200.776424  202.472239  196.436297  199.320129   \n",
            "2  2020-07-15 00:00:00-04:00  102.866669  103.333336   97.133331  103.067329   \n",
            "3  2020-07-16 00:00:00-04:00   93.865422   94.684389   93.226285   93.826538   \n",
            "4  2020-07-16 00:00:00-04:00  196.790796  197.078225  193.830315  195.372833   \n",
            "\n",
            "      Volume  Dividends  Stock splits Ticker       EMA10       EMA50  RSI  \\\n",
            "0  153198000        0.0           0.0   AAPL   93.000522  108.420025  NaN   \n",
            "1   32179400        0.0           0.0   MSFT  197.044698  201.788203  NaN   \n",
            "2  245517000        0.0           0.0   TSLA  101.982266  120.821227  NaN   \n",
            "3  110577600        0.0           0.0   AAPL   93.000522  108.420025  NaN   \n",
            "4   29940700        0.0           0.0   MSFT  197.044698  201.788203  NaN   \n",
            "\n",
            "       MACD  MACD_Signal  MACD_Hist  \n",
            "0 -8.726431    -8.726431        0.0  \n",
            "1 -2.639473    -2.639473        0.0  \n",
            "2 -1.844864    -1.844864        0.0  \n",
            "3 -8.726431    -8.726431        0.0  \n",
            "4 -2.639473    -2.639473        0.0  \n",
            "\n",
            "Missing values summary:\n",
            "Date             0\n",
            "Open             0\n",
            "High             0\n",
            "Low              0\n",
            "Close            0\n",
            "Volume           0\n",
            "Dividends        0\n",
            "Stock splits     0\n",
            "Ticker           0\n",
            "EMA10            0\n",
            "EMA50            0\n",
            "RSI             42\n",
            "MACD             0\n",
            "MACD_Signal      0\n",
            "MACD_Hist        0\n",
            "dtype: int64\n",
            "\n",
            "Saved enriched dataset to: ../data/enriched_merged_stocks.csv\n"
          ]
        }
      ],
      "source": [
        "# Display summary of the enriched dataset\n",
        "print(\"\\nEnriched dataset summary:\")\n",
        "print(f\"Shape: {enriched_df.shape}\")\n",
        "print(\"\\nColumns:\", ', '.join(enriched_df.columns))\n",
        "\n",
        "print(\"\\nSample of enriched data:\")\n",
        "print(enriched_df.head())\n",
        "\n",
        "print(\"\\nMissing values summary:\")\n",
        "print(enriched_df.isnull().sum())\n",
        "\n",
        "# Save enriched dataset\n",
        "output_path = '../data/enriched_merged_stocks.csv'\n",
        "enriched_df.to_csv(output_path, index=False)\n",
        "print(f\"\\nSaved enriched dataset to: {output_path}\")\n"
      ]
    }
  ],
  "metadata": {
    "kernelspec": {
      "display_name": "Python 3",
      "language": "python",
      "name": "python3"
    },
    "language_info": {
      "codemirror_mode": {
        "name": "ipython",
        "version": 3
      },
      "file_extension": ".py",
      "mimetype": "text/x-python",
      "name": "python",
      "nbconvert_exporter": "python",
      "pygments_lexer": "ipython3",
      "version": "3.11.9"
    }
  },
  "nbformat": 4,
  "nbformat_minor": 2
}
